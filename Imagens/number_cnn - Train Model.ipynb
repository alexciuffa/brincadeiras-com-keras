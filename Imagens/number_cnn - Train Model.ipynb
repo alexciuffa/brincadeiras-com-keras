{
 "cells": [
  {
   "cell_type": "code",
   "execution_count": 1,
   "metadata": {},
   "outputs": [],
   "source": [
    "%matplotlib inline\n",
    "import numpy as np\n",
    "import matplotlib.pyplot as plt"
   ]
  },
  {
   "cell_type": "markdown",
   "metadata": {},
   "source": [
    "## Abrindo o Dataset\n",
    "\n",
    "O Dataset está armazenado como \"mnist_train.csv\" e \"mnist_test.csv\", cada linha possui 785 números e representa uma imagem. O primeiro número de cada linha representa o Label (dígito da imagem). Os demais 784 números são os pixels da imagem 28x28."
   ]
  },
  {
   "cell_type": "code",
   "execution_count": 2,
   "metadata": {},
   "outputs": [],
   "source": [
    "data_path = \"./dataset/mnist_number/\"\n",
    "save_model_path = './trained_models/mnist_number/'\n",
    "\n",
    "train_data = np.loadtxt(data_path + \"mnist_train.csv\", \n",
    "                        delimiter=\",\")\n",
    "test_data = np.loadtxt(data_path + \"mnist_test.csv\", \n",
    "                       delimiter=\",\") "
   ]
  },
  {
   "cell_type": "code",
   "execution_count": 3,
   "metadata": {},
   "outputs": [
    {
     "name": "stdout",
     "output_type": "stream",
     "text": [
      "Train shape: (60000, 785)\n",
      "Teste shape: (2243, 785)\n"
     ]
    }
   ],
   "source": [
    "print('Train shape: {}'.format(train_data.shape))\n",
    "print('Teste shape: {}'.format(test_data.shape))"
   ]
  },
  {
   "cell_type": "markdown",
   "metadata": {},
   "source": [
    "#### Reduzir o tamanho para uma POC inicial"
   ]
  },
  {
   "cell_type": "code",
   "execution_count": 4,
   "metadata": {},
   "outputs": [],
   "source": [
    "train_data = train_data[:10000]\n",
    "test_data = test_data[:1000]"
   ]
  },
  {
   "cell_type": "code",
   "execution_count": 5,
   "metadata": {},
   "outputs": [],
   "source": [
    "label = train_data[0][0]\n",
    "img = train_data[0][1:].reshape((28,28,1)) # (row, cols, channel)"
   ]
  },
  {
   "cell_type": "code",
   "execution_count": 6,
   "metadata": {},
   "outputs": [
    {
     "name": "stdout",
     "output_type": "stream",
     "text": [
      "Label: 5.0\n"
     ]
    },
    {
     "data": {
      "image/png": "[encoded data removed]",
      "text/plain": [
       "<Figure size 432x288 with 1 Axes>"
      ]
     },
     "metadata": {
      "needs_background": "light"
     },
     "output_type": "display_data"
    }
   ],
   "source": [
    "print('Label: {}'.format(label))\n",
    "plt.imshow(img[:, :, 0], cmap=\"Greys\")\n",
    "plt.show()"
   ]
  },
  {
   "cell_type": "code",
   "execution_count": 7,
   "metadata": {},
   "outputs": [
    {
     "data": {
      "text/plain": [
       "0.0"
      ]
     },
     "execution_count": 7,
     "metadata": {},
     "output_type": "execute_result"
    }
   ],
   "source": [
    "np.max(img[0])"
   ]
  },
  {
   "cell_type": "markdown",
   "metadata": {},
   "source": [
    "## Construindo o dataset para treino"
   ]
  },
  {
   "cell_type": "code",
   "execution_count": 8,
   "metadata": {},
   "outputs": [],
   "source": [
    "label_train = train_data[:, 0]\n",
    "img_train = train_data[:, 1:].reshape((train_data.shape[0],28,28,1))/255\n",
    "\n",
    "label_test = test_data[:, 0]\n",
    "img_test = test_data[:, 1:].reshape((test_data.shape[0],28,28,1))/255\n",
    "\n",
    "del train_data\n",
    "del test_data"
   ]
  },
  {
   "cell_type": "code",
   "execution_count": 9,
   "metadata": {},
   "outputs": [
    {
     "name": "stdout",
     "output_type": "stream",
     "text": [
      "img_train shape: (10000, 28, 28, 1)\n",
      "img_test shape: (1000, 28, 28, 1)\n",
      "label_train shape: (10000,)\n",
      "label_test shape: (1000,)\n"
     ]
    }
   ],
   "source": [
    "print('img_train shape: {}'.format(img_train.shape))\n",
    "print('img_test shape: {}'.format(img_test.shape))\n",
    "print('label_train shape: {}'.format(label_train.shape))\n",
    "print('label_test shape: {}'.format(label_test.shape))"
   ]
  },
  {
   "cell_type": "code",
   "execution_count": 10,
   "metadata": {},
   "outputs": [
    {
     "data": {
      "image/png": "[encoded data removed]",
      "text/plain": [
       "<Figure size 432x288 with 1 Axes>"
      ]
     },
     "metadata": {
      "needs_background": "light"
     },
     "output_type": "display_data"
    }
   ],
   "source": [
    "plt.hist(label_train, bins='auto')\n",
    "plt.show()"
   ]
  },
  {
   "cell_type": "code",
   "execution_count": 11,
   "metadata": {},
   "outputs": [
    {
     "data": {
      "image/png": "[encoded data removed]",
      "text/plain": [
       "<Figure size 432x288 with 1 Axes>"
      ]
     },
     "metadata": {
      "needs_background": "light"
     },
     "output_type": "display_data"
    }
   ],
   "source": [
    "plt.hist(label_test, bins='auto')\n",
    "plt.show()"
   ]
  },
  {
   "cell_type": "code",
   "execution_count": 12,
   "metadata": {},
   "outputs": [],
   "source": [
    "def mk_class_output_multi_out(label_array):\n",
    "\n",
    "    t = [[],[],[],[],[],[],[],[],[],[]]\n",
    "    for label in label_array:\n",
    "        t[int(label)].append([1])\n",
    "        for a in [0,1,2,3,4,5,6,7,8,9]:\n",
    "            if a != int(label):\n",
    "                t[a].append([0])\n",
    "\n",
    "    return np.array(t)\n",
    "\n",
    "def mk_class_output_single_out(label_array):\n",
    "\n",
    "    t = []\n",
    "    for label in label_array:\n",
    "        out = [0,0,0,0,0,0,0,0,0,0]\n",
    "        out[int(label)]=1\n",
    "        t.append(out)\n",
    "\n",
    "    return np.array(t)"
   ]
  },
  {
   "cell_type": "code",
   "execution_count": 13,
   "metadata": {},
   "outputs": [],
   "source": [
    "label_train = mk_class_output_single_out(label_train)\n",
    "label_test = mk_class_output_single_out(label_test)"
   ]
  },
  {
   "cell_type": "code",
   "execution_count": 14,
   "metadata": {},
   "outputs": [
    {
     "name": "stdout",
     "output_type": "stream",
     "text": [
      "img_train shape: (10000, 28, 28, 1)\n",
      "img_test shape: (1000, 28, 28, 1)\n",
      "label_train shape: (10000, 10)\n",
      "label_test shape: (1000, 10)\n"
     ]
    }
   ],
   "source": [
    "print('img_train shape: {}'.format(img_train.shape))\n",
    "print('img_test shape: {}'.format(img_test.shape))\n",
    "print('label_train shape: {}'.format(label_train.shape))\n",
    "print('label_test shape: {}'.format(label_test.shape))"
   ]
  },
  {
   "cell_type": "markdown",
   "metadata": {},
   "source": [
    "## Construindo o modelo"
   ]
  },
  {
   "cell_type": "code",
   "execution_count": 15,
   "metadata": {},
   "outputs": [],
   "source": [
    "#import tensorflow as tf\n",
    "from tensorflow.keras.models import Sequential\n",
    "from tensorflow.keras.layers import Dense,Conv2D, BatchNormalization, MaxPooling2D\n",
    "from tensorflow.keras.layers import Input, Flatten\n",
    "from tensorflow.keras.models import Model\n",
    "from tensorflow.keras.callbacks import ModelCheckpoint\n",
    "\n",
    "from tensorflow.keras.optimizers import Adam, RMSprop\n",
    "\n",
    "#import tensorflow.keras.utils import plot_model"
   ]
  },
  {
   "cell_type": "code",
   "execution_count": 16,
   "metadata": {},
   "outputs": [],
   "source": [
    "def My_ConvLSTM_Model(channels, pixels_x, pixels_y, categories):\n",
    "    \n",
    "    # tf2.0: Num_samples x Height x Width x Channels (NHWC)\n",
    "    \n",
    "    img_input  = Input(shape=(pixels_x, pixels_y, channels)\n",
    "                    , name='img_input')\n",
    "\n",
    "    first_Conv2D = Conv2D(filters=20, kernel_size=(3, 3)\n",
    "                       , data_format=\"channels_last\"\n",
    "                       #, activation='tanh'\n",
    "                       , padding='same')(img_input)\n",
    "    first_BatchNormalization = BatchNormalization()(first_Conv2D)\n",
    "    #first_Pooling = MaxPooling2D(pool_size=(2, 2), padding='same', data_format='channels_last')(first_BatchNormalization)\n",
    "\n",
    "    second_Conv2D = Conv2D(filters=10, kernel_size=(3, 3)\n",
    "                        , data_format=\"channels_last\"\n",
    "                        , padding='same')(first_BatchNormalization)\n",
    "    second_BatchNormalization = BatchNormalization()(second_Conv2D)\n",
    "    #second_Pooling = MaxPooling2D(pool_size=(3, 3), padding='same', data_format='channels_last')(second_BatchNormalization)\n",
    "\n",
    "    #outputs = [branch(second_Pooling, 'cat_{}'.format(category)) for category in categories]\n",
    "    \n",
    "    third_Conv2D = Conv2D(filters=10, kernel_size=(3, 3)\n",
    "                        , data_format=\"channels_last\"\n",
    "                        , padding='same')(second_BatchNormalization)\n",
    "    third_BatchNormalization = BatchNormalization()(second_Conv2D)\n",
    "    \n",
    "    fourth_Conv2D = Conv2D(filters=10, kernel_size=(3, 3)\n",
    "                        , data_format=\"channels_last\"\n",
    "                        , padding='same')(third_BatchNormalization)\n",
    "    \n",
    "    flat_layer = Flatten()(fourth_Conv2D)\n",
    "\n",
    "    first_Dense = Dense(128,)(flat_layer)\n",
    "    second_Dense = Dense(32,)(first_Dense)\n",
    "\n",
    "    target = Dense(10, name='output')(second_Dense)\n",
    "    \n",
    "\n",
    "    seq = Model(inputs=img_input, outputs=target, name='Model')\n",
    "\n",
    "    return seq"
   ]
  },
  {
   "cell_type": "code",
   "execution_count": 17,
   "metadata": {},
   "outputs": [],
   "source": [
    "def branch(last_conv_layer, name):\n",
    "    branch_Conv2D = Conv2D(filters=5, kernel_size=(3, 3)\n",
    "                        , data_format=\"channels_last\"\n",
    "                        , padding='same')(last_conv_layer)\n",
    "    branch_Pooling = MaxPooling2D(pool_size=(2, 2), padding='same', data_format=\"channels_last\")(branch_Conv2D)\n",
    "\n",
    "    flat_layer = Flatten()(branch_Pooling)\n",
    "\n",
    "    first_Dense = Dense(128,)(flat_layer)\n",
    "    second_Dense = Dense(32,)(first_Dense)\n",
    "\n",
    "    target = Dense(1, name=name)(second_Dense)\n",
    "    \n",
    "    return target"
   ]
  },
  {
   "cell_type": "code",
   "execution_count": 18,
   "metadata": {},
   "outputs": [],
   "source": [
    "channels = 1\n",
    "pixels_x = 28\n",
    "pixels_y = 28\n",
    "categories = [i for i in range(0,10)]"
   ]
  },
  {
   "cell_type": "code",
   "execution_count": 19,
   "metadata": {},
   "outputs": [],
   "source": [
    "model = My_ConvLSTM_Model(channels, pixels_x, pixels_y, categories)"
   ]
  },
  {
   "cell_type": "code",
   "execution_count": 20,
   "metadata": {},
   "outputs": [
    {
     "name": "stdout",
     "output_type": "stream",
     "text": [
      "Model: \"Model\"\n",
      "_________________________________________________________________\n",
      "Layer (type)                 Output Shape              Param #   \n",
      "=================================================================\n",
      "img_input (InputLayer)       [(None, 28, 28, 1)]       0         \n",
      "_________________________________________________________________\n",
      "conv2d (Conv2D)              (None, 28, 28, 20)        200       \n",
      "_________________________________________________________________\n",
      "batch_normalization_v2 (Batc (None, 28, 28, 20)        80        \n",
      "_________________________________________________________________\n",
      "conv2d_1 (Conv2D)            (None, 28, 28, 10)        1810      \n",
      "_________________________________________________________________\n",
      "batch_normalization_v2_2 (Ba (None, 28, 28, 10)        40        \n",
      "_________________________________________________________________\n",
      "conv2d_3 (Conv2D)            (None, 28, 28, 10)        910       \n",
      "_________________________________________________________________\n",
      "flatten (Flatten)            (None, 7840)              0         \n",
      "_________________________________________________________________\n",
      "dense (Dense)                (None, 128)               1003648   \n",
      "_________________________________________________________________\n",
      "dense_1 (Dense)              (None, 32)                4128      \n",
      "_________________________________________________________________\n",
      "output (Dense)               (None, 10)                330       \n",
      "=================================================================\n",
      "Total params: 1,011,146\n",
      "Trainable params: 1,011,086\n",
      "Non-trainable params: 60\n",
      "_________________________________________________________________\n"
     ]
    }
   ],
   "source": [
    "model.compile(loss='mean_squared_error', optimizer=Adam(lr=0.0001))\n",
    "# other optimizer: RMSprop(lr=0.001, rho=0.9, epsilon=None, decay=0.0)\n",
    "model.summary()"
   ]
  },
  {
   "cell_type": "code",
   "execution_count": 21,
   "metadata": {},
   "outputs": [],
   "source": [
    "#plot_model(model, to_file='model_architecture_all.png', show_shapes=True, show_layer_names=True)"
   ]
  },
  {
   "cell_type": "markdown",
   "metadata": {},
   "source": [
    "## Treinando o modelo"
   ]
  },
  {
   "cell_type": "code",
   "execution_count": 22,
   "metadata": {},
   "outputs": [
    {
     "name": "stdout",
     "output_type": "stream",
     "text": [
      "img_train shape: (10000, 28, 28, 1)\n",
      "label_train shape: (10000, 10)\n",
      "img_test shape: (1000, 28, 28, 1)\n",
      "label_test shape: (1000, 10)\n"
     ]
    }
   ],
   "source": [
    "print('img_train shape: {}'.format(img_train.shape))\n",
    "print('label_train shape: {}'.format(label_train.shape))\n",
    "print('img_test shape: {}'.format(img_test.shape))\n",
    "print('label_test shape: {}'.format(label_test.shape))"
   ]
  },
  {
   "cell_type": "code",
   "execution_count": 23,
   "metadata": {
    "scrolled": true
   },
   "outputs": [
    {
     "name": "stdout",
     "output_type": "stream",
     "text": [
      "Train on 10000 samples, validate on 1000 samples\n",
      "Epoch 1/10\n",
      "10000/10000 [==============================] - 43s 4ms/sample - loss: 0.3030 - val_loss: 0.1157\n",
      "Epoch 2/10\n",
      "10000/10000 [==============================] - 56s 6ms/sample - loss: 0.0587 - val_loss: 0.0673\n",
      "Epoch 3/10\n",
      "10000/10000 [==============================] - 53s 5ms/sample - loss: 0.0527 - val_loss: 0.0569\n",
      "Epoch 4/10\n",
      "10000/10000 [==============================] - 50s 5ms/sample - loss: 0.0486 - val_loss: 0.0531\n",
      "Epoch 5/10\n",
      "10000/10000 [==============================] - 48s 5ms/sample - loss: 0.0471 - val_loss: 0.0568\n",
      "Epoch 6/10\n",
      "10000/10000 [==============================] - 56s 6ms/sample - loss: 0.0451 - val_loss: 0.0506\n",
      "Epoch 7/10\n",
      "10000/10000 [==============================] - 49s 5ms/sample - loss: 0.0443 - val_loss: 0.0497\n",
      "Epoch 8/10\n",
      "10000/10000 [==============================] - 56s 6ms/sample - loss: 0.0432 - val_loss: 0.0510\n",
      "Epoch 9/10\n",
      "10000/10000 [==============================] - 53s 5ms/sample - loss: 0.0421 - val_loss: 0.0476\n",
      "Epoch 10/10\n",
      "10000/10000 [==============================] - 51s 5ms/sample - loss: 0.0417 - val_loss: 0.0478\n"
     ]
    }
   ],
   "source": [
    "mc = ModelCheckpoint(filepath=save_model_path+'weights.{epoch:02d}.hdf5', monitor = \"val_loss\", \n",
    "                     verbose = 0,save_best_only = False, save_weights_only = False, period = 3)\n",
    "\n",
    "history = model.fit(\n",
    "    x=img_train, y=label_train #y=[label for label in label_train]\n",
    "    , batch_size=None\n",
    "    , epochs=10\n",
    "    , verbose=1\n",
    "    , callbacks=[mc]\n",
    "    , validation_data=(img_test, label_test)#[label for label in label_test])\n",
    "    , shuffle=True\n",
    "    #, initial_epoch=0\n",
    "    \n",
    "    #, steps_per_epoch=300\n",
    "    #, validation_steps=100\n",
    ")"
   ]
  },
  {
   "cell_type": "markdown",
   "metadata": {},
   "source": [
    "## Visualizando o treinamento"
   ]
  },
  {
   "cell_type": "code",
   "execution_count": 24,
   "metadata": {},
   "outputs": [
    {
     "data": {
      "image/png": "[encoded data removed]",
      "text/plain": [
       "<Figure size 1080x720 with 1 Axes>"
      ]
     },
     "metadata": {
      "needs_background": "light"
     },
     "output_type": "display_data"
    }
   ],
   "source": [
    "plt.figure(figsize = (15,10))\n",
    "\n",
    "plt.plot(history.history['loss'], label='loss')\n",
    "plt.plot(history.history['val_loss'], label='val_loss')\n",
    "\n",
    "plt.legend(loc='best')\n",
    "plt.show()"
   ]
  },
  {
   "cell_type": "markdown",
   "metadata": {},
   "source": [
    "## Salvando o modelo"
   ]
  },
  {
   "cell_type": "code",
   "execution_count": 25,
   "metadata": {},
   "outputs": [],
   "source": [
    "import json"
   ]
  },
  {
   "cell_type": "code",
   "execution_count": 26,
   "metadata": {},
   "outputs": [],
   "source": [
    "file_name = save_model_path + 'number_cnn_single_out'\n",
    "model.save(file_name+'.h5')"
   ]
  },
  {
   "cell_type": "code",
   "execution_count": 27,
   "metadata": {},
   "outputs": [],
   "source": [
    "with open(file_name+'_History.json', 'w') as f:\n",
    "    json.dump(history.history, f)"
   ]
  },
  {
   "cell_type": "markdown",
   "metadata": {},
   "source": [
    "## Carregando o modelo\n",
    "\n",
    "Para ver se acerta na classificação"
   ]
  },
  {
   "cell_type": "code",
   "execution_count": 28,
   "metadata": {},
   "outputs": [],
   "source": [
    "from tensorflow.keras.models import load_model\n",
    "\n",
    "def get_pred_value(prediction):\n",
    "    return np.unravel_index(np.argmax(prediction, axis=None), prediction.shape)[1]\n",
    "\n",
    "def get_target_value(prediction):\n",
    "    return np.unravel_index(np.argmax(prediction, axis=None), prediction.shape)[0]"
   ]
  },
  {
   "cell_type": "code",
   "execution_count": 29,
   "metadata": {},
   "outputs": [],
   "source": [
    "#model = load_model(save_model_path + 'number_cnn_single_out.h5')\n",
    "model = load_model(save_model_path + 'weights.03.hdf5')"
   ]
  },
  {
   "cell_type": "code",
   "execution_count": 30,
   "metadata": {},
   "outputs": [],
   "source": [
    "id_test_array = 400"
   ]
  },
  {
   "cell_type": "code",
   "execution_count": 31,
   "metadata": {},
   "outputs": [
    {
     "name": "stdout",
     "output_type": "stream",
     "text": [
      "Label: 2\n",
      "Prediction: 2\n"
     ]
    },
    {
     "data": {
      "image/png": "[encoded data removed]",
      "text/plain": [
       "<Figure size 432x288 with 1 Axes>"
      ]
     },
     "metadata": {
      "needs_background": "light"
     },
     "output_type": "display_data"
    }
   ],
   "source": [
    "print('Label: {}'.format(int(get_target_value(label_test[id_test_array]))))\n",
    "print('Prediction: {}'.format(get_pred_value(model.predict(img_test[id_test_array:id_test_array+1]))))\n",
    "plt.imshow(img_test[id_test_array][:, :, 0], cmap=\"Greys\")\n",
    "plt.show()"
   ]
  }
 ],
 "metadata": {
  "kernelspec": {
   "display_name": "Python 3",
   "language": "python",
   "name": "python3"
  },
  "language_info": {
   "codemirror_mode": {
    "name": "ipython",
    "version": 3
   },
   "file_extension": ".py",
   "mimetype": "text/x-python",
   "name": "python",
   "nbconvert_exporter": "python",
   "pygments_lexer": "ipython3",
   "version": "3.6.9"
  }
 },
 "nbformat": 4,
 "nbformat_minor": 2
}
