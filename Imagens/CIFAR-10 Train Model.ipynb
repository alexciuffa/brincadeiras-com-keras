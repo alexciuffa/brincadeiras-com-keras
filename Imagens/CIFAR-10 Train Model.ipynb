{
 "cells": [
  {
   "cell_type": "code",
   "execution_count": 1,
   "metadata": {},
   "outputs": [],
   "source": [
    "%matplotlib inline\n",
    "import numpy as np\n",
    "import matplotlib.pyplot as plt"
   ]
  },
  {
   "cell_type": "markdown",
   "metadata": {},
   "source": [
    "## Abrindo o dataset"
   ]
  },
  {
   "cell_type": "code",
   "execution_count": 2,
   "metadata": {},
   "outputs": [],
   "source": [
    "def unpickle(file):\n",
    "    import pickle\n",
    "    with open(file, 'rb') as fo:\n",
    "        dict = pickle.load(fo, encoding='bytes')\n",
    "    return dict"
   ]
  },
  {
   "cell_type": "code",
   "execution_count": 4,
   "metadata": {},
   "outputs": [],
   "source": [
    "data_path = \"./dataset/cifar-10/\"\n",
    "save_model_path = './trained_models/cifar10/'\n",
    "\n",
    "data = unpickle(data_path+'data_batch_1')"
   ]
  },
  {
   "cell_type": "code",
   "execution_count": 5,
   "metadata": {},
   "outputs": [
    {
     "data": {
      "text/plain": [
       "dict_keys([b'batch_label', b'labels', b'data', b'filenames'])"
      ]
     },
     "execution_count": 5,
     "metadata": {},
     "output_type": "execute_result"
    }
   ],
   "source": [
    "data.keys()"
   ]
  },
  {
   "cell_type": "code",
   "execution_count": 6,
   "metadata": {},
   "outputs": [
    {
     "data": {
      "text/plain": [
       "(10000, 3072)"
      ]
     },
     "execution_count": 6,
     "metadata": {},
     "output_type": "execute_result"
    }
   ],
   "source": [
    "data[b'data'].shape"
   ]
  },
  {
   "cell_type": "code",
   "execution_count": 7,
   "metadata": {},
   "outputs": [],
   "source": [
    "def image_reshape(raw_image):\n",
    "    \n",
    "    red = raw_image[:1024]\n",
    "    green = raw_image[1024:2048]\n",
    "    blue = raw_image[2048:]\n",
    "    \n",
    "    return np.stack((red, green, blue), axis=-1).reshape((32,32,3))"
   ]
  },
  {
   "cell_type": "code",
   "execution_count": 8,
   "metadata": {},
   "outputs": [
    {
     "data": {
      "text/plain": [
       "(32, 32, 3)"
      ]
     },
     "execution_count": 8,
     "metadata": {},
     "output_type": "execute_result"
    }
   ],
   "source": [
    "image_reshape(data[b'data'][1]).shape"
   ]
  },
  {
   "cell_type": "code",
   "execution_count": 9,
   "metadata": {},
   "outputs": [
    {
     "data": {
      "text/plain": [
       "<matplotlib.image.AxesImage at 0x26c3b62780>"
      ]
     },
     "execution_count": 9,
     "metadata": {},
     "output_type": "execute_result"
    },
    {
     "data": {
      "image/png": "[encoded data removed]",
      "text/plain": [
       "<Figure size 72x72 with 1 Axes>"
      ]
     },
     "metadata": {
      "needs_background": "light"
     },
     "output_type": "display_data"
    }
   ],
   "source": [
    "plt.figure(figsize = (1,1))\n",
    "plt.imshow(image_reshape(data[b'data'][1]))"
   ]
  },
  {
   "cell_type": "code",
   "execution_count": 10,
   "metadata": {},
   "outputs": [
    {
     "data": {
      "text/plain": [
       "9"
      ]
     },
     "execution_count": 10,
     "metadata": {},
     "output_type": "execute_result"
    }
   ],
   "source": [
    "data[b'labels'][1]"
   ]
  },
  {
   "cell_type": "code",
   "execution_count": null,
   "metadata": {},
   "outputs": [],
   "source": []
  },
  {
   "cell_type": "code",
   "execution_count": 11,
   "metadata": {},
   "outputs": [],
   "source": [
    "data = unpickle(data_path+'data_batch_{}'.format(1))\n",
    "img_train = data[b'data']\n",
    "label_train = np.array(data[b'labels'])\n",
    "for i in range(2,6):\n",
    "    data = unpickle(data_path+'data_batch_{}'.format(i))\n",
    "    img_train = np.concatenate((img_train, data[b'data']))\n",
    "    label_train = np.concatenate((label_train, np.array(data[b'labels'])))\n",
    "    \n",
    "data = unpickle(data_path+'test_batch')\n",
    "img_test = data[b'data']\n",
    "label_test = np.array(data[b'labels'])"
   ]
  },
  {
   "cell_type": "code",
   "execution_count": 12,
   "metadata": {},
   "outputs": [
    {
     "name": "stdout",
     "output_type": "stream",
     "text": [
      "img_train shape: (50000, 3072)\n",
      "label_train shape: (50000,)\n",
      "img_test shape: (10000, 3072)\n",
      "label_test shape: (10000,)\n"
     ]
    }
   ],
   "source": [
    "print('img_train shape: {}'.format(img_train.shape))\n",
    "print('label_train shape: {}'.format(label_train.shape))\n",
    "print('img_test shape: {}'.format(img_test.shape))\n",
    "print('label_test shape: {}'.format(label_test.shape))"
   ]
  },
  {
   "cell_type": "code",
   "execution_count": 13,
   "metadata": {},
   "outputs": [
    {
     "data": {
      "image/png": "[encoded data removed]",
      "text/plain": [
       "<Figure size 432x288 with 1 Axes>"
      ]
     },
     "metadata": {
      "needs_background": "light"
     },
     "output_type": "display_data"
    }
   ],
   "source": [
    "plt.hist(label_train, bins='auto')\n",
    "plt.show()"
   ]
  },
  {
   "cell_type": "code",
   "execution_count": 14,
   "metadata": {},
   "outputs": [
    {
     "data": {
      "image/png": "[encoded data removed]",
      "text/plain": [
       "<Figure size 432x288 with 1 Axes>"
      ]
     },
     "metadata": {
      "needs_background": "light"
     },
     "output_type": "display_data"
    }
   ],
   "source": [
    "plt.hist(label_test, bins='auto')\n",
    "plt.show()"
   ]
  },
  {
   "cell_type": "code",
   "execution_count": 15,
   "metadata": {},
   "outputs": [],
   "source": [
    "img_train = np.apply_along_axis(image_reshape, 1, img_train)\n",
    "img_test = np.apply_along_axis(image_reshape, 1, img_test)"
   ]
  },
  {
   "cell_type": "code",
   "execution_count": 16,
   "metadata": {},
   "outputs": [
    {
     "data": {
      "text/plain": [
       "(50000, 32, 32, 3)"
      ]
     },
     "execution_count": 16,
     "metadata": {},
     "output_type": "execute_result"
    }
   ],
   "source": [
    "img_train.shape"
   ]
  },
  {
   "cell_type": "code",
   "execution_count": 17,
   "metadata": {},
   "outputs": [
    {
     "data": {
      "text/plain": [
       "<matplotlib.image.AxesImage at 0x26cc7281d0>"
      ]
     },
     "execution_count": 17,
     "metadata": {},
     "output_type": "execute_result"
    },
    {
     "data": {
      "image/png": "[encoded data removed]",
      "text/plain": [
       "<Figure size 72x72 with 1 Axes>"
      ]
     },
     "metadata": {
      "needs_background": "light"
     },
     "output_type": "display_data"
    }
   ],
   "source": [
    "plt.figure(figsize = (1,1))\n",
    "plt.imshow(img_train[1])"
   ]
  },
  {
   "cell_type": "code",
   "execution_count": 18,
   "metadata": {},
   "outputs": [],
   "source": [
    "img_train = img_train/255\n",
    "img_test = img_test/255"
   ]
  },
  {
   "cell_type": "code",
   "execution_count": 19,
   "metadata": {},
   "outputs": [],
   "source": [
    "def mk_class_output_single_out(label_array):\n",
    "\n",
    "    t = []\n",
    "    for label in label_array:\n",
    "        out = [0,0,0,0,0,0,0,0,0,0]\n",
    "        out[int(label)]=1\n",
    "        t.append(out)\n",
    "\n",
    "    return np.array(t)"
   ]
  },
  {
   "cell_type": "code",
   "execution_count": 20,
   "metadata": {},
   "outputs": [],
   "source": [
    "label_train = mk_class_output_single_out(label_train)\n",
    "label_test = mk_class_output_single_out(label_test)"
   ]
  },
  {
   "cell_type": "code",
   "execution_count": 21,
   "metadata": {},
   "outputs": [
    {
     "name": "stdout",
     "output_type": "stream",
     "text": [
      "img_train shape: (50000, 32, 32, 3)\n",
      "label_train shape: (50000, 10)\n",
      "img_test shape: (10000, 32, 32, 3)\n",
      "label_test shape: (10000, 10)\n"
     ]
    }
   ],
   "source": [
    "print('img_train shape: {}'.format(img_train.shape))\n",
    "print('label_train shape: {}'.format(label_train.shape))\n",
    "print('img_test shape: {}'.format(img_test.shape))\n",
    "print('label_test shape: {}'.format(label_test.shape))"
   ]
  },
  {
   "cell_type": "code",
   "execution_count": 22,
   "metadata": {},
   "outputs": [],
   "source": [
    "#img_train = img_train[:10000]\n",
    "#label_train = label_train[:10000]\n",
    "#img_test = img_test[:1000]\n",
    "#label_test = label_test[:1000]"
   ]
  },
  {
   "cell_type": "markdown",
   "metadata": {},
   "source": [
    "## Construindo o modelo"
   ]
  },
  {
   "cell_type": "code",
   "execution_count": 25,
   "metadata": {},
   "outputs": [],
   "source": [
    "from tensorflow.keras.models import Sequential, Model\n",
    "from tensorflow.keras.layers import Dense, Conv2D, BatchNormalization, MaxPooling2D\n",
    "from tensorflow.keras.layers import Input, Flatten\n",
    "from tensorflow.keras.callbacks import ModelCheckpoint\n",
    "\n",
    "from tensorflow.keras.optimizers import Adam, RMSprop\n",
    "#import tensorflow as tf\n",
    "\n",
    "from tensorflow.keras.utils import plot_model"
   ]
  },
  {
   "cell_type": "code",
   "execution_count": 26,
   "metadata": {},
   "outputs": [],
   "source": [
    "def My_ConvLSTM_Model(channels, pixels_x, pixels_y, num_categories):\n",
    "    img_input  = Input(shape=(pixels_x, pixels_y, channels)\n",
    "                    , name='img_input')\n",
    "\n",
    "    first_Conv2D = Conv2D(filters=50, kernel_size=(3, 3)\n",
    "                       , data_format='channels_last'\n",
    "                       , activation='relu'\n",
    "                       , padding='same')(img_input)\n",
    "    first_Conv2D = BatchNormalization()(first_Conv2D)\n",
    "    #first_Conv2D = MaxPooling2D(pool_size=(2, 2), padding='same', data_format='channels_first')(first_Conv2D)\n",
    "\n",
    "    second_Conv2D = Conv2D(filters=40, kernel_size=(3, 3)\n",
    "                        , data_format='channels_last'\n",
    "                        , activation='relu'\n",
    "                        , padding='same')(first_Conv2D)\n",
    "    second_Conv2D = BatchNormalization()(second_Conv2D)\n",
    "    #second_Conv2D = MaxPooling2D(pool_size=(3, 3), padding='same', data_format='channels_first')(second_Conv2D)\n",
    "    \n",
    "    third_Conv2D = Conv2D(filters=30, kernel_size=(3, 3)\n",
    "                        , data_format='channels_last'\n",
    "                        , padding='same')(second_Conv2D)\n",
    "    third_Conv2D = BatchNormalization()(third_Conv2D)\n",
    "    \n",
    "    fourth_Conv2D = Conv2D(filters=30, kernel_size=(3, 3)\n",
    "                        , data_format='channels_last'\n",
    "                        , padding='same')(third_Conv2D)\n",
    "    \n",
    "    flat_layer = Flatten()(fourth_Conv2D)\n",
    "\n",
    "    first_Dense = Dense(256,)(flat_layer)\n",
    "    second_Dense = Dense(128,)(first_Dense)\n",
    "\n",
    "    target = Dense(num_categories, name='output')(second_Dense)\n",
    "    \n",
    "\n",
    "    seq = Model(inputs=img_input, outputs=target, name='Model')\n",
    "\n",
    "    return seq"
   ]
  },
  {
   "cell_type": "code",
   "execution_count": 27,
   "metadata": {},
   "outputs": [],
   "source": [
    "channels = 3\n",
    "pixels_x = 32\n",
    "pixels_y = 32\n",
    "num_categories = 10"
   ]
  },
  {
   "cell_type": "code",
   "execution_count": 28,
   "metadata": {},
   "outputs": [],
   "source": [
    "model = My_ConvLSTM_Model(channels, pixels_x, pixels_y, num_categories)"
   ]
  },
  {
   "cell_type": "code",
   "execution_count": 29,
   "metadata": {},
   "outputs": [
    {
     "name": "stdout",
     "output_type": "stream",
     "text": [
      "Model: \"Model\"\n",
      "_________________________________________________________________\n",
      "Layer (type)                 Output Shape              Param #   \n",
      "=================================================================\n",
      "img_input (InputLayer)       [(None, 32, 32, 3)]       0         \n",
      "_________________________________________________________________\n",
      "conv2d (Conv2D)              (None, 32, 32, 50)        1400      \n",
      "_________________________________________________________________\n",
      "batch_normalization_v2 (Batc (None, 32, 32, 50)        200       \n",
      "_________________________________________________________________\n",
      "conv2d_1 (Conv2D)            (None, 32, 32, 40)        18040     \n",
      "_________________________________________________________________\n",
      "batch_normalization_v2_1 (Ba (None, 32, 32, 40)        160       \n",
      "_________________________________________________________________\n",
      "conv2d_2 (Conv2D)            (None, 32, 32, 30)        10830     \n",
      "_________________________________________________________________\n",
      "batch_normalization_v2_2 (Ba (None, 32, 32, 30)        120       \n",
      "_________________________________________________________________\n",
      "conv2d_3 (Conv2D)            (None, 32, 32, 30)        8130      \n",
      "_________________________________________________________________\n",
      "flatten (Flatten)            (None, 30720)             0         \n",
      "_________________________________________________________________\n",
      "dense (Dense)                (None, 256)               7864576   \n",
      "_________________________________________________________________\n",
      "dense_1 (Dense)              (None, 128)               32896     \n",
      "_________________________________________________________________\n",
      "output (Dense)               (None, 10)                1290      \n",
      "=================================================================\n",
      "Total params: 7,937,642\n",
      "Trainable params: 7,937,402\n",
      "Non-trainable params: 240\n",
      "_________________________________________________________________\n"
     ]
    }
   ],
   "source": [
    "model.compile(loss='mean_squared_error', optimizer=Adam(lr=0.0001), metrics=['accuracy'])\n",
    "model.summary()"
   ]
  },
  {
   "cell_type": "code",
   "execution_count": 30,
   "metadata": {},
   "outputs": [
    {
     "ename": "ImportError",
     "evalue": "Failed to import pydot. You must install pydot and graphviz for `pydotprint` to work.",
     "output_type": "error",
     "traceback": [
      "\u001b[1;31m---------------------------------------------------------------------------\u001b[0m",
      "\u001b[1;31mAttributeError\u001b[0m                            Traceback (most recent call last)",
      "\u001b[1;32m~\\Anaconda3\\envs\\tf2\\lib\\site-packages\\tensorflow\\python\\keras\\utils\\vis_utils.py\u001b[0m in \u001b[0;36m_check_pydot\u001b[1;34m()\u001b[0m\n\u001b[0;32m     44\u001b[0m     \u001b[1;31m# to check the pydot/graphviz installation.\u001b[0m\u001b[1;33m\u001b[0m\u001b[1;33m\u001b[0m\u001b[1;33m\u001b[0m\u001b[0m\n\u001b[1;32m---> 45\u001b[1;33m     \u001b[0mpydot\u001b[0m\u001b[1;33m.\u001b[0m\u001b[0mDot\u001b[0m\u001b[1;33m.\u001b[0m\u001b[0mcreate\u001b[0m\u001b[1;33m(\u001b[0m\u001b[0mpydot\u001b[0m\u001b[1;33m.\u001b[0m\u001b[0mDot\u001b[0m\u001b[1;33m(\u001b[0m\u001b[1;33m)\u001b[0m\u001b[1;33m)\u001b[0m\u001b[1;33m\u001b[0m\u001b[1;33m\u001b[0m\u001b[0m\n\u001b[0m\u001b[0;32m     46\u001b[0m   \u001b[1;32mexcept\u001b[0m \u001b[0mException\u001b[0m\u001b[1;33m:\u001b[0m\u001b[1;33m\u001b[0m\u001b[1;33m\u001b[0m\u001b[0m\n",
      "\u001b[1;31mAttributeError\u001b[0m: 'NoneType' object has no attribute 'Dot'",
      "\nDuring handling of the above exception, another exception occurred:\n",
      "\u001b[1;31mImportError\u001b[0m                               Traceback (most recent call last)",
      "\u001b[1;32m<ipython-input-30-411ca05d9188>\u001b[0m in \u001b[0;36m<module>\u001b[1;34m\u001b[0m\n\u001b[1;32m----> 1\u001b[1;33m \u001b[0mplot_model\u001b[0m\u001b[1;33m(\u001b[0m\u001b[0mmodel\u001b[0m\u001b[1;33m,\u001b[0m \u001b[0mto_file\u001b[0m\u001b[1;33m=\u001b[0m\u001b[0msave_model_path\u001b[0m\u001b[1;33m+\u001b[0m\u001b[1;34m'model_architecture_all.png'\u001b[0m\u001b[1;33m,\u001b[0m \u001b[0mshow_shapes\u001b[0m\u001b[1;33m=\u001b[0m\u001b[1;32mTrue\u001b[0m\u001b[1;33m,\u001b[0m \u001b[0mshow_layer_names\u001b[0m\u001b[1;33m=\u001b[0m\u001b[1;32mTrue\u001b[0m\u001b[1;33m)\u001b[0m\u001b[1;33m\u001b[0m\u001b[1;33m\u001b[0m\u001b[0m\n\u001b[0m",
      "\u001b[1;32m~\\Anaconda3\\envs\\tf2\\lib\\site-packages\\tensorflow\\python\\keras\\utils\\vis_utils.py\u001b[0m in \u001b[0;36mplot_model\u001b[1;34m(model, to_file, show_shapes, show_layer_names, rankdir)\u001b[0m\n\u001b[0;32m    151\u001b[0m       \u001b[0mThis\u001b[0m \u001b[0menables\u001b[0m \u001b[1;32min\u001b[0m\u001b[1;33m-\u001b[0m\u001b[0mline\u001b[0m \u001b[0mdisplay\u001b[0m \u001b[0mof\u001b[0m \u001b[0mthe\u001b[0m \u001b[0mmodel\u001b[0m \u001b[0mplots\u001b[0m \u001b[1;32min\u001b[0m \u001b[0mnotebooks\u001b[0m\u001b[1;33m.\u001b[0m\u001b[1;33m\u001b[0m\u001b[1;33m\u001b[0m\u001b[0m\n\u001b[0;32m    152\u001b[0m   \"\"\"\n\u001b[1;32m--> 153\u001b[1;33m   \u001b[0mdot\u001b[0m \u001b[1;33m=\u001b[0m \u001b[0mmodel_to_dot\u001b[0m\u001b[1;33m(\u001b[0m\u001b[0mmodel\u001b[0m\u001b[1;33m,\u001b[0m \u001b[0mshow_shapes\u001b[0m\u001b[1;33m,\u001b[0m \u001b[0mshow_layer_names\u001b[0m\u001b[1;33m,\u001b[0m \u001b[0mrankdir\u001b[0m\u001b[1;33m)\u001b[0m\u001b[1;33m\u001b[0m\u001b[1;33m\u001b[0m\u001b[0m\n\u001b[0m\u001b[0;32m    154\u001b[0m   \u001b[0m_\u001b[0m\u001b[1;33m,\u001b[0m \u001b[0mextension\u001b[0m \u001b[1;33m=\u001b[0m \u001b[0mos\u001b[0m\u001b[1;33m.\u001b[0m\u001b[0mpath\u001b[0m\u001b[1;33m.\u001b[0m\u001b[0msplitext\u001b[0m\u001b[1;33m(\u001b[0m\u001b[0mto_file\u001b[0m\u001b[1;33m)\u001b[0m\u001b[1;33m\u001b[0m\u001b[1;33m\u001b[0m\u001b[0m\n\u001b[0;32m    155\u001b[0m   \u001b[1;32mif\u001b[0m \u001b[1;32mnot\u001b[0m \u001b[0mextension\u001b[0m\u001b[1;33m:\u001b[0m\u001b[1;33m\u001b[0m\u001b[1;33m\u001b[0m\u001b[0m\n",
      "\u001b[1;32m~\\Anaconda3\\envs\\tf2\\lib\\site-packages\\tensorflow\\python\\keras\\utils\\vis_utils.py\u001b[0m in \u001b[0;36mmodel_to_dot\u001b[1;34m(model, show_shapes, show_layer_names, rankdir)\u001b[0m\n\u001b[0;32m     70\u001b[0m   \u001b[1;32mfrom\u001b[0m \u001b[0mtensorflow\u001b[0m\u001b[1;33m.\u001b[0m\u001b[0mpython\u001b[0m\u001b[1;33m.\u001b[0m\u001b[0mutil\u001b[0m \u001b[1;32mimport\u001b[0m \u001b[0mnest\u001b[0m\u001b[1;33m\u001b[0m\u001b[1;33m\u001b[0m\u001b[0m\n\u001b[0;32m     71\u001b[0m \u001b[1;33m\u001b[0m\u001b[0m\n\u001b[1;32m---> 72\u001b[1;33m   \u001b[0m_check_pydot\u001b[0m\u001b[1;33m(\u001b[0m\u001b[1;33m)\u001b[0m\u001b[1;33m\u001b[0m\u001b[1;33m\u001b[0m\u001b[0m\n\u001b[0m\u001b[0;32m     73\u001b[0m   \u001b[0mdot\u001b[0m \u001b[1;33m=\u001b[0m \u001b[0mpydot\u001b[0m\u001b[1;33m.\u001b[0m\u001b[0mDot\u001b[0m\u001b[1;33m(\u001b[0m\u001b[1;33m)\u001b[0m\u001b[1;33m\u001b[0m\u001b[1;33m\u001b[0m\u001b[0m\n\u001b[0;32m     74\u001b[0m   \u001b[0mdot\u001b[0m\u001b[1;33m.\u001b[0m\u001b[0mset\u001b[0m\u001b[1;33m(\u001b[0m\u001b[1;34m'rankdir'\u001b[0m\u001b[1;33m,\u001b[0m \u001b[0mrankdir\u001b[0m\u001b[1;33m)\u001b[0m\u001b[1;33m\u001b[0m\u001b[1;33m\u001b[0m\u001b[0m\n",
      "\u001b[1;32m~\\Anaconda3\\envs\\tf2\\lib\\site-packages\\tensorflow\\python\\keras\\utils\\vis_utils.py\u001b[0m in \u001b[0;36m_check_pydot\u001b[1;34m()\u001b[0m\n\u001b[0;32m     47\u001b[0m     \u001b[1;31m# pydot raises a generic Exception here,\u001b[0m\u001b[1;33m\u001b[0m\u001b[1;33m\u001b[0m\u001b[1;33m\u001b[0m\u001b[0m\n\u001b[0;32m     48\u001b[0m     \u001b[1;31m# so no specific class can be caught.\u001b[0m\u001b[1;33m\u001b[0m\u001b[1;33m\u001b[0m\u001b[1;33m\u001b[0m\u001b[0m\n\u001b[1;32m---> 49\u001b[1;33m     raise ImportError('Failed to import pydot. You must install pydot'\n\u001b[0m\u001b[0;32m     50\u001b[0m                       ' and graphviz for `pydotprint` to work.')\n\u001b[0;32m     51\u001b[0m \u001b[1;33m\u001b[0m\u001b[0m\n",
      "\u001b[1;31mImportError\u001b[0m: Failed to import pydot. You must install pydot and graphviz for `pydotprint` to work."
     ]
    }
   ],
   "source": [
    "plot_model(model, to_file=save_model_path+'model_architecture_all.png', show_shapes=True, show_layer_names=True)"
   ]
  },
  {
   "cell_type": "markdown",
   "metadata": {},
   "source": [
    "## Treinando o modelo"
   ]
  },
  {
   "cell_type": "code",
   "execution_count": 28,
   "metadata": {},
   "outputs": [
    {
     "name": "stdout",
     "output_type": "stream",
     "text": [
      "img_train shape: (50000, 32, 32, 3)\n",
      "label_train shape: (50000, 10)\n",
      "img_test shape: (10000, 32, 32, 3)\n",
      "label_test shape: (10000, 10)\n"
     ]
    }
   ],
   "source": [
    "print('img_train shape: {}'.format(img_train.shape))\n",
    "print('label_train shape: {}'.format(label_train.shape))\n",
    "print('img_test shape: {}'.format(img_test.shape))\n",
    "print('label_test shape: {}'.format(label_test.shape))"
   ]
  },
  {
   "cell_type": "code",
   "execution_count": 29,
   "metadata": {
    "scrolled": true
   },
   "outputs": [
    {
     "name": "stdout",
     "output_type": "stream",
     "text": [
      "Train on 50000 samples, validate on 10000 samples\n",
      "Epoch 1/100\n",
      "50000/50000 [==============================] - 1208s 24ms/step - loss: 0.3518 - acc: 0.2792 - val_loss: 0.0993 - val_acc: 0.3656\n",
      "Epoch 2/100\n",
      "50000/50000 [==============================] - 1152s 23ms/step - loss: 0.0803 - acc: 0.4557 - val_loss: 0.0803 - val_acc: 0.4420\n",
      "Epoch 3/100\n",
      "50000/50000 [==============================] - 1152s 23ms/step - loss: 0.0717 - acc: 0.5186 - val_loss: 0.0737 - val_acc: 0.4825\n",
      "Epoch 4/100\n",
      "50000/50000 [==============================] - 1151s 23ms/step - loss: 0.0682 - acc: 0.5583 - val_loss: 0.0711 - val_acc: 0.5164\n",
      "Epoch 5/100\n",
      "50000/50000 [==============================] - 1158s 23ms/step - loss: 0.0653 - acc: 0.5889 - val_loss: 0.0689 - val_acc: 0.5366\n",
      "Epoch 6/100\n",
      "50000/50000 [==============================] - 1153s 23ms/step - loss: 0.0630 - acc: 0.6173 - val_loss: 0.0663 - val_acc: 0.5643\n",
      "Epoch 7/100\n",
      "50000/50000 [==============================] - 1149s 23ms/step - loss: 0.0609 - acc: 0.6453 - val_loss: 0.0664 - val_acc: 0.5719\n",
      "Epoch 8/100\n",
      "50000/50000 [==============================] - 1148s 23ms/step - loss: 0.0591 - acc: 0.6702 - val_loss: 0.0670 - val_acc: 0.5766\n",
      "Epoch 9/100\n",
      "50000/50000 [==============================] - 1149s 23ms/step - loss: 0.0573 - acc: 0.6950 - val_loss: 0.0689 - val_acc: 0.5439\n",
      "Epoch 10/100\n",
      "50000/50000 [==============================] - 1147s 23ms/step - loss: 0.0557 - acc: 0.7177 - val_loss: 0.0655 - val_acc: 0.5967\n",
      "Epoch 11/100\n",
      "50000/50000 [==============================] - 1158s 23ms/step - loss: 0.0541 - acc: 0.7404 - val_loss: 0.0661 - val_acc: 0.5929\n",
      "Epoch 12/100\n",
      "50000/50000 [==============================] - 1158s 23ms/step - loss: 0.0526 - acc: 0.7613 - val_loss: 0.0668 - val_acc: 0.5916\n",
      "Epoch 13/100\n",
      "50000/50000 [==============================] - 1152s 23ms/step - loss: 0.0513 - acc: 0.7782 - val_loss: 0.0682 - val_acc: 0.5807\n",
      "Epoch 14/100\n",
      "50000/50000 [==============================] - 1154s 23ms/step - loss: 0.0502 - acc: 0.7941 - val_loss: 0.0690 - val_acc: 0.5723\n",
      "Epoch 15/100\n",
      "50000/50000 [==============================] - 1156s 23ms/step - loss: 0.0492 - acc: 0.8046 - val_loss: 0.0681 - val_acc: 0.5811\n",
      "Epoch 16/100\n",
      "50000/50000 [==============================] - 1161s 23ms/step - loss: 0.0483 - acc: 0.8173 - val_loss: 0.0697 - val_acc: 0.5777\n",
      "Epoch 17/100\n",
      "50000/50000 [==============================] - 1152s 23ms/step - loss: 0.0475 - acc: 0.8267 - val_loss: 0.0694 - val_acc: 0.5805\n",
      "Epoch 18/100\n",
      "50000/50000 [==============================] - 1154s 23ms/step - loss: 0.0467 - acc: 0.8351 - val_loss: 0.0697 - val_acc: 0.5869\n",
      "Epoch 19/100\n",
      "50000/50000 [==============================] - 1154s 23ms/step - loss: 0.0460 - acc: 0.8460 - val_loss: 0.0703 - val_acc: 0.5835\n",
      "Epoch 20/100\n",
      "50000/50000 [==============================] - 1158s 23ms/step - loss: 0.0453 - acc: 0.8541 - val_loss: 0.0709 - val_acc: 0.5797\n",
      "Epoch 21/100\n",
      "50000/50000 [==============================] - 1154s 23ms/step - loss: 0.0447 - acc: 0.8597 - val_loss: 0.0722 - val_acc: 0.5728\n",
      "Epoch 22/100\n",
      "50000/50000 [==============================] - 1156s 23ms/step - loss: 0.0441 - acc: 0.8665 - val_loss: 0.0719 - val_acc: 0.5772\n",
      "Epoch 23/100\n",
      "50000/50000 [==============================] - 1156s 23ms/step - loss: 0.0436 - acc: 0.8699 - val_loss: 0.0736 - val_acc: 0.5670\n",
      "Epoch 24/100\n",
      "50000/50000 [==============================] - 1157s 23ms/step - loss: 0.0430 - acc: 0.8760 - val_loss: 0.0743 - val_acc: 0.5532\n",
      "Epoch 25/100\n",
      "50000/50000 [==============================] - 1154s 23ms/step - loss: 0.0425 - acc: 0.8829 - val_loss: 0.0737 - val_acc: 0.5726\n",
      "Epoch 26/100\n",
      "50000/50000 [==============================] - 1157s 23ms/step - loss: 0.0421 - acc: 0.8867 - val_loss: 0.0735 - val_acc: 0.5634\n",
      "Epoch 27/100\n",
      "50000/50000 [==============================] - 1156s 23ms/step - loss: 0.0415 - acc: 0.8918 - val_loss: 0.0756 - val_acc: 0.5619\n",
      "Epoch 28/100\n",
      "50000/50000 [==============================] - 1156s 23ms/step - loss: 0.0412 - acc: 0.8941 - val_loss: 0.0760 - val_acc: 0.5521\n",
      "Epoch 29/100\n",
      "50000/50000 [==============================] - 1155s 23ms/step - loss: 0.0408 - acc: 0.9004 - val_loss: 0.0754 - val_acc: 0.5678\n",
      "Epoch 30/100\n",
      "50000/50000 [==============================] - 1156s 23ms/step - loss: 0.0403 - acc: 0.9031 - val_loss: 0.0767 - val_acc: 0.5572\n",
      "Epoch 31/100\n",
      "50000/50000 [==============================] - 1155s 23ms/step - loss: 0.0400 - acc: 0.9051 - val_loss: 0.0780 - val_acc: 0.5537\n",
      "Epoch 32/100\n",
      "50000/50000 [==============================] - 1155s 23ms/step - loss: 0.0397 - acc: 0.9091 - val_loss: 0.0752 - val_acc: 0.5661\n",
      "Epoch 33/100\n",
      "50000/50000 [==============================] - 1155s 23ms/step - loss: 0.0393 - acc: 0.9136 - val_loss: 0.0779 - val_acc: 0.5530\n",
      "Epoch 34/100\n",
      "50000/50000 [==============================] - 1156s 23ms/step - loss: 0.0390 - acc: 0.9147 - val_loss: 0.0768 - val_acc: 0.5511\n",
      "Epoch 35/100\n",
      "50000/50000 [==============================] - 1156s 23ms/step - loss: 0.0386 - acc: 0.9175 - val_loss: 0.0788 - val_acc: 0.5509\n",
      "Epoch 36/100\n",
      "50000/50000 [==============================] - 1157s 23ms/step - loss: 0.0383 - acc: 0.9198 - val_loss: 0.0774 - val_acc: 0.5596\n",
      "Epoch 37/100\n",
      "50000/50000 [==============================] - 1153s 23ms/step - loss: 0.0380 - acc: 0.9220 - val_loss: 0.0811 - val_acc: 0.5456\n",
      "Epoch 38/100\n",
      "50000/50000 [==============================] - 1155s 23ms/step - loss: 0.0377 - acc: 0.9245 - val_loss: 0.0801 - val_acc: 0.5519\n",
      "Epoch 39/100\n",
      "50000/50000 [==============================] - 1157s 23ms/step - loss: 0.0374 - acc: 0.9255 - val_loss: 0.0794 - val_acc: 0.5518\n",
      "Epoch 40/100\n",
      "50000/50000 [==============================] - 1161s 23ms/step - loss: 0.0371 - acc: 0.9295 - val_loss: 0.0797 - val_acc: 0.5523\n",
      "Epoch 41/100\n",
      "50000/50000 [==============================] - 1160s 23ms/step - loss: 0.0369 - acc: 0.9300 - val_loss: 0.0804 - val_acc: 0.5499\n",
      "Epoch 42/100\n",
      "50000/50000 [==============================] - 1157s 23ms/step - loss: 0.0367 - acc: 0.9310 - val_loss: 0.0800 - val_acc: 0.5456\n",
      "Epoch 43/100\n",
      "50000/50000 [==============================] - 1155s 23ms/step - loss: 0.0363 - acc: 0.9342 - val_loss: 0.0814 - val_acc: 0.5371\n",
      "Epoch 44/100\n",
      "50000/50000 [==============================] - 1155s 23ms/step - loss: 0.0361 - acc: 0.9349 - val_loss: 0.0816 - val_acc: 0.5510\n",
      "Epoch 45/100\n",
      "50000/50000 [==============================] - 1156s 23ms/step - loss: 0.0359 - acc: 0.9366 - val_loss: 0.0822 - val_acc: 0.5382\n",
      "Epoch 46/100\n",
      "50000/50000 [==============================] - 1158s 23ms/step - loss: 0.0357 - acc: 0.9387 - val_loss: 0.0830 - val_acc: 0.5421\n",
      "Epoch 47/100\n",
      "50000/50000 [==============================] - 1157s 23ms/step - loss: 0.0355 - acc: 0.9401 - val_loss: 0.0852 - val_acc: 0.5309\n",
      "Epoch 48/100\n",
      "50000/50000 [==============================] - 1166s 23ms/step - loss: 0.0353 - acc: 0.9400 - val_loss: 0.0825 - val_acc: 0.5471\n",
      "Epoch 49/100\n",
      "50000/50000 [==============================] - 1155s 23ms/step - loss: 0.0350 - acc: 0.9437 - val_loss: 0.0836 - val_acc: 0.5422\n",
      "Epoch 50/100\n",
      "50000/50000 [==============================] - 1153s 23ms/step - loss: 0.0348 - acc: 0.9452 - val_loss: 0.0838 - val_acc: 0.5413\n",
      "Epoch 51/100\n",
      "50000/50000 [==============================] - 1157s 23ms/step - loss: 0.0346 - acc: 0.9456 - val_loss: 0.0842 - val_acc: 0.5383\n",
      "Epoch 52/100\n",
      "50000/50000 [==============================] - 1156s 23ms/step - loss: 0.0343 - acc: 0.9479 - val_loss: 0.0855 - val_acc: 0.5333\n",
      "Epoch 53/100\n",
      "50000/50000 [==============================] - 1156s 23ms/step - loss: 0.0342 - acc: 0.9474 - val_loss: 0.0863 - val_acc: 0.5288\n",
      "Epoch 54/100\n",
      "50000/50000 [==============================] - 1155s 23ms/step - loss: 0.0340 - acc: 0.9491 - val_loss: 0.0863 - val_acc: 0.5333\n",
      "Epoch 55/100\n",
      "50000/50000 [==============================] - 1159s 23ms/step - loss: 0.0338 - acc: 0.9496 - val_loss: 0.0860 - val_acc: 0.5325\n",
      "Epoch 56/100\n",
      "50000/50000 [==============================] - 1156s 23ms/step - loss: 0.0336 - acc: 0.9507 - val_loss: 0.0859 - val_acc: 0.5318\n",
      "Epoch 57/100\n",
      "50000/50000 [==============================] - 1162s 23ms/step - loss: 0.0334 - acc: 0.9522 - val_loss: 0.0864 - val_acc: 0.5406\n",
      "Epoch 58/100\n",
      "50000/50000 [==============================] - 1157s 23ms/step - loss: 0.0333 - acc: 0.9538 - val_loss: 0.0863 - val_acc: 0.5296\n",
      "Epoch 59/100\n",
      "50000/50000 [==============================] - 1159s 23ms/step - loss: 0.0331 - acc: 0.9544 - val_loss: 0.0871 - val_acc: 0.5402\n",
      "Epoch 60/100\n",
      "50000/50000 [==============================] - 1158s 23ms/step - loss: 0.0329 - acc: 0.9557 - val_loss: 0.0876 - val_acc: 0.5230\n",
      "Epoch 61/100\n",
      "50000/50000 [==============================] - 1159s 23ms/step - loss: 0.0328 - acc: 0.9555 - val_loss: 0.0861 - val_acc: 0.5365\n",
      "Epoch 62/100\n",
      "50000/50000 [==============================] - 1158s 23ms/step - loss: 0.0326 - acc: 0.9574 - val_loss: 0.0873 - val_acc: 0.5346\n",
      "Epoch 63/100\n",
      "50000/50000 [==============================] - 1158s 23ms/step - loss: 0.0324 - acc: 0.9574 - val_loss: 0.0873 - val_acc: 0.5308\n",
      "Epoch 64/100\n",
      "50000/50000 [==============================] - 1160s 23ms/step - loss: 0.0323 - acc: 0.9583 - val_loss: 0.0884 - val_acc: 0.5304\n",
      "Epoch 65/100\n",
      "50000/50000 [==============================] - 1159s 23ms/step - loss: 0.0322 - acc: 0.9593 - val_loss: 0.0882 - val_acc: 0.5350\n",
      "Epoch 66/100\n",
      "50000/50000 [==============================] - 1159s 23ms/step - loss: 0.0320 - acc: 0.9605 - val_loss: 0.0883 - val_acc: 0.5288\n",
      "Epoch 67/100\n",
      "50000/50000 [==============================] - 1165s 23ms/step - loss: 0.0319 - acc: 0.9603 - val_loss: 0.0884 - val_acc: 0.5277\n",
      "Epoch 68/100\n",
      "50000/50000 [==============================] - 1159s 23ms/step - loss: 0.0317 - acc: 0.9624 - val_loss: 0.0899 - val_acc: 0.5219\n",
      "Epoch 69/100\n",
      "50000/50000 [==============================] - 1159s 23ms/step - loss: 0.0316 - acc: 0.9620 - val_loss: 0.0900 - val_acc: 0.5301\n",
      "Epoch 70/100\n",
      "50000/50000 [==============================] - 1160s 23ms/step - loss: 0.0315 - acc: 0.9628 - val_loss: 0.0901 - val_acc: 0.5204\n",
      "Epoch 71/100\n",
      "50000/50000 [==============================] - 1158s 23ms/step - loss: 0.0313 - acc: 0.9632 - val_loss: 0.0894 - val_acc: 0.5237\n",
      "Epoch 72/100\n",
      "50000/50000 [==============================] - 1157s 23ms/step - loss: 0.0312 - acc: 0.9638 - val_loss: 0.0906 - val_acc: 0.5204\n",
      "Epoch 73/100\n",
      "50000/50000 [==============================] - 1160s 23ms/step - loss: 0.0310 - acc: 0.9641 - val_loss: 0.0908 - val_acc: 0.5260\n",
      "Epoch 74/100\n",
      "50000/50000 [==============================] - 1160s 23ms/step - loss: 0.0309 - acc: 0.9646 - val_loss: 0.0921 - val_acc: 0.5218\n",
      "Epoch 75/100\n",
      "50000/50000 [==============================] - 1158s 23ms/step - loss: 0.0307 - acc: 0.9655 - val_loss: 0.0905 - val_acc: 0.5283\n",
      "Epoch 76/100\n",
      "50000/50000 [==============================] - 1160s 23ms/step - loss: 0.0307 - acc: 0.9669 - val_loss: 0.0925 - val_acc: 0.5188\n",
      "Epoch 77/100\n",
      "50000/50000 [==============================] - 1160s 23ms/step - loss: 0.0305 - acc: 0.9678 - val_loss: 0.0913 - val_acc: 0.5244\n",
      "Epoch 78/100\n",
      "50000/50000 [==============================] - 1159s 23ms/step - loss: 0.0304 - acc: 0.9671 - val_loss: 0.0915 - val_acc: 0.5263\n",
      "Epoch 79/100\n",
      "50000/50000 [==============================] - 1163s 23ms/step - loss: 0.0302 - acc: 0.9692 - val_loss: 0.0925 - val_acc: 0.5181\n",
      "Epoch 80/100\n",
      "50000/50000 [==============================] - 1160s 23ms/step - loss: 0.0301 - acc: 0.9685 - val_loss: 0.0914 - val_acc: 0.5237\n",
      "Epoch 81/100\n",
      "50000/50000 [==============================] - 1159s 23ms/step - loss: 0.0300 - acc: 0.9697 - val_loss: 0.0928 - val_acc: 0.5214\n",
      "Epoch 82/100\n",
      "50000/50000 [==============================] - 1160s 23ms/step - loss: 0.0299 - acc: 0.9698 - val_loss: 0.0922 - val_acc: 0.5189\n",
      "Epoch 83/100\n",
      "50000/50000 [==============================] - 1159s 23ms/step - loss: 0.0298 - acc: 0.9702 - val_loss: 0.0952 - val_acc: 0.5068\n",
      "Epoch 84/100\n",
      "50000/50000 [==============================] - 1158s 23ms/step - loss: 0.0298 - acc: 0.9709 - val_loss: 0.0936 - val_acc: 0.5222\n",
      "Epoch 85/100\n",
      "50000/50000 [==============================] - 1161s 23ms/step - loss: 0.0296 - acc: 0.9711 - val_loss: 0.0938 - val_acc: 0.5210\n",
      "Epoch 86/100\n",
      "50000/50000 [==============================] - 1161s 23ms/step - loss: 0.0295 - acc: 0.9709 - val_loss: 0.0940 - val_acc: 0.5225\n",
      "Epoch 87/100\n",
      "50000/50000 [==============================] - 1159s 23ms/step - loss: 0.0293 - acc: 0.9717 - val_loss: 0.0935 - val_acc: 0.5160\n",
      "Epoch 88/100\n",
      "50000/50000 [==============================] - 1160s 23ms/step - loss: 0.0293 - acc: 0.9725 - val_loss: 0.0956 - val_acc: 0.5119\n",
      "Epoch 89/100\n",
      "50000/50000 [==============================] - 1159s 23ms/step - loss: 0.0292 - acc: 0.9734 - val_loss: 0.0945 - val_acc: 0.5113\n",
      "Epoch 90/100\n",
      "50000/50000 [==============================] - 1161s 23ms/step - loss: 0.0291 - acc: 0.9733 - val_loss: 0.0948 - val_acc: 0.5191\n",
      "Epoch 91/100\n",
      "50000/50000 [==============================] - 1160s 23ms/step - loss: 0.0290 - acc: 0.9731 - val_loss: 0.0948 - val_acc: 0.5141\n",
      "Epoch 92/100\n",
      "50000/50000 [==============================] - 1161s 23ms/step - loss: 0.0288 - acc: 0.9739 - val_loss: 0.0953 - val_acc: 0.5135\n",
      "Epoch 93/100\n",
      "50000/50000 [==============================] - 1163s 23ms/step - loss: 0.0287 - acc: 0.9741 - val_loss: 0.0953 - val_acc: 0.5147\n",
      "Epoch 94/100\n",
      "50000/50000 [==============================] - 1160s 23ms/step - loss: 0.0287 - acc: 0.9746 - val_loss: 0.0968 - val_acc: 0.5136\n",
      "Epoch 95/100\n",
      "50000/50000 [==============================] - 1161s 23ms/step - loss: 0.0286 - acc: 0.9748 - val_loss: 0.0951 - val_acc: 0.5119\n",
      "Epoch 96/100\n",
      "50000/50000 [==============================] - 1159s 23ms/step - loss: 0.0284 - acc: 0.9746 - val_loss: 0.0967 - val_acc: 0.5096\n",
      "Epoch 97/100\n",
      "50000/50000 [==============================] - 1162s 23ms/step - loss: 0.0284 - acc: 0.9757 - val_loss: 0.0958 - val_acc: 0.5104\n",
      "Epoch 98/100\n",
      "50000/50000 [==============================] - 1162s 23ms/step - loss: 0.0283 - acc: 0.9760 - val_loss: 0.0955 - val_acc: 0.5123\n",
      "Epoch 99/100\n",
      "50000/50000 [==============================] - 1163s 23ms/step - loss: 0.0281 - acc: 0.9768 - val_loss: 0.0972 - val_acc: 0.5085\n",
      "Epoch 100/100\n",
      "50000/50000 [==============================] - 1160s 23ms/step - loss: 0.0280 - acc: 0.9764 - val_loss: 0.0980 - val_acc: 0.5015\n"
     ]
    }
   ],
   "source": [
    "mc = ModelCheckpoint(filepath=save_model_path+'weights.{epoch:02d}.hdf5', monitor = \"val_loss\", \n",
    "                     verbose = 0,save_best_only = False, save_weights_only = False, period = 3)\n",
    "\n",
    "history = model.fit(\n",
    "    x=img_train, y=label_train\n",
    "    , batch_size=None\n",
    "    , epochs=100\n",
    "    , verbose=1\n",
    "    , callbacks=[mc]\n",
    "    , validation_data=(img_test, label_test)\n",
    "    , shuffle=True\n",
    "    , initial_epoch=0\n",
    "    \n",
    "    #, steps_per_epoch=300\n",
    "    #, validation_steps=100\n",
    ")"
   ]
  },
  {
   "cell_type": "markdown",
   "metadata": {},
   "source": [
    "## Visualizando o treinamento"
   ]
  },
  {
   "cell_type": "code",
   "execution_count": 30,
   "metadata": {},
   "outputs": [
    {
     "data": {
      "image/png": "[encoded data removed]",
      "text/plain": [
       "<Figure size 1080x720 with 1 Axes>"
      ]
     },
     "metadata": {
      "needs_background": "light"
     },
     "output_type": "display_data"
    }
   ],
   "source": [
    "plt.figure(figsize = (15,10))\n",
    "\n",
    "plt.plot(history.history['loss'], label='loss')\n",
    "plt.plot(history.history['val_loss'], label='val_loss')\n",
    "plt.plot(history.history['acc'], label='acc')\n",
    "plt.plot(history.history['val_acc'], label='val_acc')\n",
    "\n",
    "plt.legend(loc='best')\n",
    "plt.show()"
   ]
  },
  {
   "cell_type": "code",
   "execution_count": 31,
   "metadata": {},
   "outputs": [],
   "source": [
    "import json"
   ]
  },
  {
   "cell_type": "code",
   "execution_count": 32,
   "metadata": {},
   "outputs": [],
   "source": [
    "file_name = 'cifar10_cnn_single_out'\n",
    "model.save(save_model_path+file_name+'.h5')\n",
    "\n",
    "with open(save_model_path+file_name+'_History.json', 'w') as f:\n",
    "    json.dump(history.history, f)"
   ]
  },
  {
   "cell_type": "markdown",
   "metadata": {},
   "source": [
    "## Carregando o modelo\n",
    "\n",
    "Para ver se acerta na classificação"
   ]
  },
  {
   "cell_type": "code",
   "execution_count": 33,
   "metadata": {},
   "outputs": [],
   "source": [
    "from keras.models import load_model\n",
    "\n",
    "def get_pred_value(prediction):\n",
    "    return np.unravel_index(np.argmax(prediction, axis=None), prediction.shape)[1]\n",
    "\n",
    "def get_target_value(prediction):\n",
    "    return np.unravel_index(np.argmax(prediction, axis=None), prediction.shape)[0]\n",
    "\n",
    "def softmax(x):\n",
    "    \"\"\"Compute softmax values for each sets of scores in x.\"\"\"\n",
    "    e_x = np.exp(x - np.max(x))\n",
    "    return e_x / e_x.sum(axis=0)\n",
    "\n",
    "def plota_estatisticas(id_test, model, label_test, img_test, categories):\n",
    "    print('Label: {}'.format(categories[int(get_target_value(label_test[id_test]))]))\n",
    "    prediction = model.predict(img_test[id_test:id_test+1])\n",
    "    print('Prediction: {}'.format(categories[get_pred_value(prediction)]))\n",
    "    plt.figure(figsize = (1,1))\n",
    "    plt.imshow(img_test[id_test])\n",
    "    plt.show()\n",
    "    print('Softmax: ')\n",
    "    for cat, percent in zip(categories, softmax(prediction[0])):\n",
    "        print('{}: {:0.2f}%'.format(cat, percent*100))\n",
    "        \n",
    "        \n",
    "def printa_previsao(id_test, model, label_test, img_test, categories):\n",
    "    print('Label: {}'.format(categories[int(get_target_value(label_test[id_test]))]))\n",
    "    prediction = model.predict(img_test[id_test:id_test+1])\n",
    "    print('Prediction: {}'.format(categories[get_pred_value(prediction)]))\n",
    "    \n",
    "def plota_imagem(img_test, id_test):\n",
    "    plt.figure(figsize = (1,1))\n",
    "    plt.imshow(img_test[id_test])\n",
    "    plt.show()\n",
    "    \n",
    "def printa_softmax(categories, prediction):\n",
    "    print('Softmax: ')\n",
    "    for cat, percent in zip(categories, softmax(prediction[0])):\n",
    "        print('{}: {:0.2f}%'.format(cat, percent*100))\n",
    "        \n",
    "def plota_estatisticas_organizado(id_test, model, label_test, img_test, categories):\n",
    "    printa_previsao(id_test, model, label_test, img_test, categories)\n",
    "    plota_imagem(img_test, id_test)\n",
    "    printa_softmax(categories, prediction)"
   ]
  },
  {
   "cell_type": "code",
   "execution_count": 34,
   "metadata": {},
   "outputs": [],
   "source": [
    "model = load_model(save_model_path+'cifar10_cnn_single_out.h5')"
   ]
  },
  {
   "cell_type": "code",
   "execution_count": 35,
   "metadata": {},
   "outputs": [],
   "source": [
    "categories = ['airplane','automobile','bird','cat','deer','dog','frog','horse','ship','truck']"
   ]
  },
  {
   "cell_type": "code",
   "execution_count": 36,
   "metadata": {},
   "outputs": [],
   "source": [
    "def porcentagem_acertos(model, label_list, img_list):\n",
    "    num_acertos = 0\n",
    "    for id_test in range(0,label_list.shape[0]):\n",
    "        expected = categories[int(get_target_value(label_list[id_test]))]\n",
    "        prediction = categories[get_pred_value(model.predict(img_list[id_test:id_test+1]))]\n",
    "        num_acertos += expected==prediction\n",
    "\n",
    "    print('Acertos: {} de {}: {:0.2f}%'.format(num_acertos, label_list.shape[0], num_acertos*100/label_list.shape[0]))"
   ]
  },
  {
   "cell_type": "code",
   "execution_count": 37,
   "metadata": {},
   "outputs": [
    {
     "name": "stdout",
     "output_type": "stream",
     "text": [
      "50000/50000 [==============================] - 350s 7ms/step\n",
      "Train Set: Acc: 0.03, Loss: 0.98\n"
     ]
    }
   ],
   "source": [
    "acc, loss = model.evaluate(img_train, label_train)\n",
    "print('Train Set: Acc: {:0.2f}, Loss: {:0.2f}'.format(acc, loss))"
   ]
  },
  {
   "cell_type": "code",
   "execution_count": 38,
   "metadata": {},
   "outputs": [
    {
     "name": "stdout",
     "output_type": "stream",
     "text": [
      "Acertos: 49079 de 50000: 98.16%\n"
     ]
    }
   ],
   "source": [
    "porcentagem_acertos(model, label_train, img_train)"
   ]
  },
  {
   "cell_type": "code",
   "execution_count": 39,
   "metadata": {},
   "outputs": [
    {
     "name": "stdout",
     "output_type": "stream",
     "text": [
      "10000/10000 [==============================] - 70s 7ms/step\n",
      "Test Set: Acc: 0.10, Loss: 0.50\n"
     ]
    }
   ],
   "source": [
    "acc, loss = model.evaluate(img_test, label_test)\n",
    "print('Test Set: Acc: {:0.2f}, Loss: {:0.2f}'.format(acc, loss))"
   ]
  },
  {
   "cell_type": "code",
   "execution_count": 40,
   "metadata": {},
   "outputs": [
    {
     "name": "stdout",
     "output_type": "stream",
     "text": [
      "Acertos: 5015 de 10000: 50.15%\n"
     ]
    }
   ],
   "source": [
    "porcentagem_acertos(model, label_test, img_test)"
   ]
  },
  {
   "cell_type": "code",
   "execution_count": 41,
   "metadata": {},
   "outputs": [
    {
     "name": "stdout",
     "output_type": "stream",
     "text": [
      "Label: ship\n",
      "Prediction: bird\n"
     ]
    },
    {
     "data": {
      "image/png": "[encoded data removed]",
      "text/plain": [
       "<Figure size 72x72 with 1 Axes>"
      ]
     },
     "metadata": {
      "needs_background": "light"
     },
     "output_type": "display_data"
    },
    {
     "name": "stdout",
     "output_type": "stream",
     "text": [
      "Softmax: \n",
      "airplane: 11.34%\n",
      "automobile: 10.60%\n",
      "bird: 13.36%\n",
      "cat: 7.62%\n",
      "deer: 10.92%\n",
      "dog: 7.90%\n",
      "frog: 8.96%\n",
      "horse: 7.61%\n",
      "ship: 10.49%\n",
      "truck: 11.21%\n"
     ]
    }
   ],
   "source": [
    "plota_estatisticas(1059, model, label_test, img_test, categories)"
   ]
  },
  {
   "cell_type": "code",
   "execution_count": 42,
   "metadata": {},
   "outputs": [
    {
     "name": "stdout",
     "output_type": "stream",
     "text": [
      "Label: cat\n",
      "Prediction: ship\n"
     ]
    },
    {
     "data": {
      "image/png": "[encoded data removed]",
      "text/plain": [
       "<Figure size 72x72 with 1 Axes>"
      ]
     },
     "metadata": {
      "needs_background": "light"
     },
     "output_type": "display_data"
    },
    {
     "name": "stdout",
     "output_type": "stream",
     "text": [
      "Softmax: \n",
      "airplane: 7.40%\n",
      "automobile: 7.60%\n",
      "bird: 12.44%\n",
      "cat: 12.94%\n",
      "deer: 9.54%\n",
      "dog: 9.08%\n",
      "frog: 7.98%\n",
      "horse: 6.30%\n",
      "ship: 14.36%\n",
      "truck: 12.37%\n"
     ]
    }
   ],
   "source": [
    "plota_estatisticas(0, model, label_test, img_test, categories)"
   ]
  },
  {
   "cell_type": "code",
   "execution_count": 43,
   "metadata": {},
   "outputs": [
    {
     "name": "stdout",
     "output_type": "stream",
     "text": [
      "Label: deer\n",
      "Prediction: deer\n"
     ]
    },
    {
     "data": {
      "image/png": "[encoded data removed]",
      "text/plain": [
       "<Figure size 72x72 with 1 Axes>"
      ]
     },
     "metadata": {
      "needs_background": "light"
     },
     "output_type": "display_data"
    },
    {
     "name": "stdout",
     "output_type": "stream",
     "text": [
      "Softmax: \n",
      "airplane: 8.03%\n",
      "automobile: 8.67%\n",
      "bird: 13.04%\n",
      "cat: 8.35%\n",
      "deer: 15.90%\n",
      "dog: 7.15%\n",
      "frog: 11.94%\n",
      "horse: 10.07%\n",
      "ship: 10.02%\n",
      "truck: 6.83%\n"
     ]
    }
   ],
   "source": [
    "plota_estatisticas(100, model, label_test, img_test, categories)"
   ]
  },
  {
   "cell_type": "code",
   "execution_count": 44,
   "metadata": {},
   "outputs": [
    {
     "name": "stdout",
     "output_type": "stream",
     "text": [
      "Label: horse\n",
      "Prediction: cat\n"
     ]
    },
    {
     "data": {
      "image/png": "[encoded data removed]",
      "text/plain": [
       "<Figure size 72x72 with 1 Axes>"
      ]
     },
     "metadata": {
      "needs_background": "light"
     },
     "output_type": "display_data"
    },
    {
     "name": "stdout",
     "output_type": "stream",
     "text": [
      "Softmax: \n",
      "airplane: 7.64%\n",
      "automobile: 11.70%\n",
      "bird: 10.45%\n",
      "cat: 16.82%\n",
      "deer: 7.59%\n",
      "dog: 11.20%\n",
      "frog: 7.16%\n",
      "horse: 11.07%\n",
      "ship: 6.39%\n",
      "truck: 9.97%\n"
     ]
    }
   ],
   "source": [
    "plota_estatisticas(435, model, label_test, img_test, categories)"
   ]
  },
  {
   "cell_type": "code",
   "execution_count": null,
   "metadata": {},
   "outputs": [],
   "source": []
  }
 ],
 "metadata": {
  "kernelspec": {
   "display_name": "Python 3",
   "language": "python",
   "name": "python3"
  },
  "language_info": {
   "codemirror_mode": {
    "name": "ipython",
    "version": 3
   },
   "file_extension": ".py",
   "mimetype": "text/x-python",
   "name": "python",
   "nbconvert_exporter": "python",
   "pygments_lexer": "ipython3",
   "version": "3.6.9"
  }
 },
 "nbformat": 4,
 "nbformat_minor": 2
}
