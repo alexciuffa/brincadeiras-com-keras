{
 "cells": [
  {
   "cell_type": "markdown",
   "metadata": {},
   "source": [
    "# Aula 1 - Análise do Dataset\n",
    "O dataset utilizado será o [Iris flower data set](https://en.wikipedia.org/wiki/Iris_flower_data_set). Ele possui informações de 3 tipos de flores Iris.\n",
    "\n",
    "Este dataset possui 4 características (features) relevantes dos dados:\n",
    "- Comprimento das sépalas\n",
    "- Largura das sépalas\n",
    "- Comprimento das pétalas\n",
    "- Largura das pétalas\n",
    "\n",
    "O o nosso objetivo é, a partir destas informações, classificar o tipo da flor. As possíveis calssificações são:\n",
    "- Iris Setosa\n",
    "- Iris Virginica\n",
    "- Iris Versicolor"
   ]
  },
  {
   "cell_type": "markdown",
   "metadata": {},
   "source": [
    "## 1) Vizualização do dataset"
   ]
  },
  {
   "cell_type": "code",
   "execution_count": 1,
   "metadata": {},
   "outputs": [],
   "source": [
    "import matplotlib.pyplot as plt\n",
    "import matplotlib.patches as mpatches"
   ]
  },
  {
   "cell_type": "markdown",
   "metadata": {},
   "source": [
    "### Carregar o dataset"
   ]
  },
  {
   "cell_type": "markdown",
   "metadata": {},
   "source": [
    "O sklearn (a.k.a. scikit-learn) possui datasets simples prontos. Eles podem ser encntrados [aqui](https://scikit-learn.org/stable/datasets/index.html#toy-datasets). Um deles, que vamos utilizar agora, é o dataset de [flores Iris](https://scikit-learn.org/stable/modules/generated/sklearn.datasets.load_iris.html#sklearn.datasets.load_iris)."
   ]
  },
  {
   "cell_type": "code",
   "execution_count": 2,
   "metadata": {},
   "outputs": [],
   "source": [
    "from sklearn import datasets\n",
    "iris_dataset = datasets.load_iris() #retorna um dicionátio com os dados"
   ]
  },
  {
   "cell_type": "raw",
   "metadata": {},
   "source": [
    "Fala: Explicar que os dados vem na forma de dicionário. As chaves são ['data', 'target', 'target_names', 'DESCR', 'feature_names', 'filename'] e o que cada chave significa."
   ]
  },
  {
   "cell_type": "code",
   "execution_count": 3,
   "metadata": {},
   "outputs": [
    {
     "data": {
      "text/plain": [
       "dict_keys(['data', 'target', 'target_names', 'DESCR', 'feature_names', 'filename'])"
      ]
     },
     "execution_count": 3,
     "metadata": {},
     "output_type": "execute_result"
    }
   ],
   "source": [
    "iris_dataset.keys()"
   ]
  },
  {
   "cell_type": "code",
   "execution_count": 4,
   "metadata": {},
   "outputs": [
    {
     "name": "stdout",
     "output_type": "stream",
     "text": [
      "As features (entradas) são: ['sepal length (cm)', 'sepal width (cm)', 'petal length (cm)', 'petal width (cm)']\n",
      "Os targets (saídas) são: ['setosa' 'versicolor' 'virginica']\n"
     ]
    }
   ],
   "source": [
    "print('As features (entradas) são: {}'.format(iris_dataset['feature_names']))\n",
    "print('Os targets (saídas) são: {}'.format(iris_dataset['target_names']))"
   ]
  },
  {
   "cell_type": "code",
   "execution_count": 5,
   "metadata": {},
   "outputs": [
    {
     "data": {
      "text/plain": [
       "array([[5.1, 3.5, 1.4, 0.2],\n",
       "       [4.9, 3. , 1.4, 0.2],\n",
       "       [4.7, 3.2, 1.3, 0.2],\n",
       "       [4.6, 3.1, 1.5, 0.2],\n",
       "       [5. , 3.6, 1.4, 0.2]])"
      ]
     },
     "execution_count": 5,
     "metadata": {},
     "output_type": "execute_result"
    }
   ],
   "source": [
    "iris_dataset.data[:5]\n",
    "#['sepal length', 'sepal width', 'petal length', 'petal width']"
   ]
  },
  {
   "cell_type": "code",
   "execution_count": 6,
   "metadata": {},
   "outputs": [
    {
     "data": {
      "text/plain": [
       "array([0, 0, 0, 0, 0, 0, 0, 0, 0, 0, 0, 0, 0, 0, 0, 0, 0, 0, 0, 0, 0, 0,\n",
       "       0, 0, 0, 0, 0, 0, 0, 0, 0, 0, 0, 0, 0, 0, 0, 0, 0, 0, 0, 0, 0, 0,\n",
       "       0, 0, 0, 0, 0, 0, 1, 1, 1, 1, 1, 1, 1, 1, 1, 1, 1, 1, 1, 1, 1, 1,\n",
       "       1, 1, 1, 1, 1, 1, 1, 1, 1, 1, 1, 1, 1, 1, 1, 1, 1, 1, 1, 1, 1, 1,\n",
       "       1, 1, 1, 1, 1, 1, 1, 1, 1, 1, 1, 1, 2, 2, 2, 2, 2, 2, 2, 2, 2, 2,\n",
       "       2, 2, 2, 2, 2, 2, 2, 2, 2, 2, 2, 2, 2, 2, 2, 2, 2, 2, 2, 2, 2, 2,\n",
       "       2, 2, 2, 2, 2, 2, 2, 2, 2, 2, 2, 2, 2, 2, 2, 2, 2, 2])"
      ]
     },
     "execution_count": 6,
     "metadata": {},
     "output_type": "execute_result"
    }
   ],
   "source": [
    "iris_dataset.target\n",
    "# 0 -> 'setosa'\n",
    "# 1 -> 'versicolor'\n",
    "# 2 -> 'virginica'"
   ]
  },
  {
   "cell_type": "markdown",
   "metadata": {},
   "source": [
    "### Analisar o dataset\n",
    "Quando vamos analisar um dataset, precisamos basicamente verificar duas coisas:\n",
    "\n",
    "1) O dataset está balanceado?\n",
    "\n",
    "2) Quais features são relevantes para utilizar como entrada do modelo?"
   ]
  },
  {
   "cell_type": "code",
   "execution_count": 7,
   "metadata": {},
   "outputs": [],
   "source": [
    "X = iris_dataset.data\n",
    "y = iris_dataset.target"
   ]
  },
  {
   "cell_type": "code",
   "execution_count": 8,
   "metadata": {},
   "outputs": [
    {
     "name": "stdout",
     "output_type": "stream",
     "text": [
      "O tamanho do dataset é: 150\n"
     ]
    }
   ],
   "source": [
    "print('O tamanho do dataset é: {}'.format(len(X)))"
   ]
  },
  {
   "cell_type": "markdown",
   "metadata": {},
   "source": [
    "#### O dadaset está balanceado?"
   ]
  },
  {
   "cell_type": "code",
   "execution_count": 9,
   "metadata": {},
   "outputs": [
    {
     "data": {
      "image/png": "[encoded data removed]",
      "text/plain": [
       "<Figure size 432x288 with 1 Axes>"
      ]
     },
     "metadata": {
      "needs_background": "light"
     },
     "output_type": "display_data"
    }
   ],
   "source": [
    "plt.hist(y,  bins= [-0.1,0.1,0.9,1.1,1.9,2.1], align='mid')\n",
    "plt.ylabel(\"Quantidade\")\n",
    "plt.xlabel(\"classes\")\n",
    "plt.title(\"Distribuição das classes\")\n",
    "plt.show()"
   ]
  },
  {
   "cell_type": "raw",
   "metadata": {},
   "source": [
    "Falar:\n",
    "Neste caso, o dataset está balanceado (*surprised face*), mas se ele não estivesse (como é beem comum e veremos em casos mais para frente), podemos abordar este problemas de 3 maneiras:\n",
    "- Over-sampling (como data augumentation, SMOTE)\n",
    "- Under-sampling\n",
    "- Class Weights (atribuir um peso a cada classe durante o treinamento)"
   ]
  },
  {
   "cell_type": "markdown",
   "metadata": {},
   "source": [
    "#### Como cada feature está distribuida?"
   ]
  },
  {
   "cell_type": "code",
   "execution_count": 10,
   "metadata": {},
   "outputs": [
    {
     "data": {
      "image/png": "[encoded data removed]",
      "text/plain": [
       "<Figure size 720x504 with 4 Axes>"
      ]
     },
     "metadata": {
      "needs_background": "light"
     },
     "output_type": "display_data"
    }
   ],
   "source": [
    "fig = plt.figure(figsize=(10,7))\n",
    "\n",
    "ax1 = fig.add_subplot(2,2,1) #.add_subplot(num_linhas, num_colunas, id_do_subplot)\n",
    "ax1.hist(X[:,0],  bins=5, align='mid')\n",
    "ax1.set_title('sepal length')\n",
    "\n",
    "ax2 = fig.add_subplot(2,2,2)\n",
    "ax2.hist(X[:,1],  bins=5, align='mid')\n",
    "ax2.set_title('sepal width')\n",
    "\n",
    "ax3 = fig.add_subplot(2,2,3)\n",
    "ax3.hist(X[:,2],  bins=5, align='mid')\n",
    "ax3.set_title('petal length')\n",
    "\n",
    "ax4 = fig.add_subplot(2,2,4)\n",
    "ax4.hist(X[:,3],  bins=5, align='mid')\n",
    "ax4.set_title('petal width')\n",
    "\n",
    "plt.subplots_adjust(hspace=0.5, wspace=0.5)\n",
    "plt.show()"
   ]
  },
  {
   "cell_type": "raw",
   "metadata": {},
   "source": [
    "Se a distribuição de uma feature é muito tendenciosa, como uma distribuição exponencial muito acentuada, ela pode não ser uma boa entrada para o modelo."
   ]
  },
  {
   "cell_type": "markdown",
   "metadata": {},
   "source": [
    "#### As features influenciam a classe?\n",
    "\n",
    "O que é um boxplot (diagrama de caixa)? [link1](https://pt.wikipedia.org/wiki/Diagrama_de_caixa), [link2](http://www.abgconsultoria.com.br/blog/boxplot-como-interpretar/)"
   ]
  },
  {
   "cell_type": "raw",
   "metadata": {},
   "source": [
    "Falar:\n",
    "Explicar o que é um boxplot, e ele ser diferente entre cada classe (para a mesma feature) é bom. (explicar melhor)"
   ]
  },
  {
   "cell_type": "code",
   "execution_count": 11,
   "metadata": {},
   "outputs": [
    {
     "data": {
      "image/png": "[encoded data removed]",
      "text/plain": [
       "<Figure size 720x504 with 4 Axes>"
      ]
     },
     "metadata": {
      "needs_background": "light"
     },
     "output_type": "display_data"
    }
   ],
   "source": [
    "fig = plt.figure(figsize=(10,7))\n",
    "\n",
    "ax1 = fig.add_subplot(2,2,1)\n",
    "ax1.boxplot([X[:50, 0], X[50:100, 0], X[100:150, 0]])\n",
    "ax1.set_xticklabels(iris_dataset['target_names'])\n",
    "ax1.set_title('sepal length')\n",
    "\n",
    "ax2 = fig.add_subplot(2,2,2)\n",
    "ax2.boxplot([X[:50, 1], X[50:100, 1], X[100:150, 1]])\n",
    "ax2.set_xticklabels(iris_dataset['target_names'])\n",
    "ax2.set_title('sepal width')\n",
    "\n",
    "ax3 = fig.add_subplot(2,2,3)\n",
    "ax3.boxplot([X[:50, 2], X[50:100, 2], X[100:150, 2]])\n",
    "ax3.set_xticklabels(iris_dataset['target_names'])\n",
    "ax3.set_title('petal length')\n",
    "\n",
    "ax4 = fig.add_subplot(2,2,4)\n",
    "ax4.boxplot([X[:50, 3], X[50:100, 3], X[100:150, 3]])\n",
    "ax4.set_xticklabels(iris_dataset['target_names'])\n",
    "ax4.set_title('petal width')\n",
    "\n",
    "plt.subplots_adjust(hspace=0.5, wspace=0.5)\n",
    "plt.show()"
   ]
  },
  {
   "cell_type": "code",
   "execution_count": 12,
   "metadata": {},
   "outputs": [
    {
     "data": {
      "image/png": "[encoded data removed]",
      "text/plain": [
       "<Figure size 432x288 with 1 Axes>"
      ]
     },
     "metadata": {
      "needs_background": "light"
     },
     "output_type": "display_data"
    }
   ],
   "source": [
    "color = ['r', 'b', 'y']\n",
    "for (sepal_length, sepal_width), classe in zip(X[:, :2], y):\n",
    "    plt.scatter(sepal_length, sepal_width, color=color[classe])\n",
    "\n",
    "plt.ylabel(\"Sepal width\")\n",
    "plt.xlabel(\"Sepal length\")\n",
    "plt.title(\"Sepal\")\n",
    "\n",
    "setosa_patch = mpatches.Patch(color=color[0], label='Setosa')\n",
    "versicolor_patch = mpatches.Patch(color=color[1], label='Versicolor')\n",
    "virginica_patch = mpatches.Patch(color=color[2], label='Virginica')\n",
    "plt.legend(handles=[setosa_patch, versicolor_patch, virginica_patch])\n",
    "\n",
    "plt.show()"
   ]
  },
  {
   "cell_type": "code",
   "execution_count": 13,
   "metadata": {},
   "outputs": [
    {
     "data": {
      "image/png": "[encoded data removed]",
      "text/plain": [
       "<Figure size 432x288 with 1 Axes>"
      ]
     },
     "metadata": {
      "needs_background": "light"
     },
     "output_type": "display_data"
    }
   ],
   "source": [
    "color = ['r', 'b', 'y']\n",
    "for (petal_length, petal_width), classe in zip(X[:, 2:], y):\n",
    "    plt.scatter(petal_length, petal_width, color=color[classe])\n",
    "\n",
    "plt.ylabel(\"Petal width\")\n",
    "plt.xlabel(\"Petal length\")\n",
    "plt.title(\"Petal\")\n",
    "\n",
    "setosa_patch = mpatches.Patch(color=color[0], label='Setosa')\n",
    "versicolor_patch = mpatches.Patch(color=color[1], label='Versicolor')\n",
    "virginica_patch = mpatches.Patch(color=color[2], label='Virginica')\n",
    "plt.legend(handles=[setosa_patch, versicolor_patch, virginica_patch])\n",
    "\n",
    "plt.show()"
   ]
  },
  {
   "cell_type": "markdown",
   "metadata": {},
   "source": [
    "#### Conclusão\n",
    "As classes estão distribuidas e são relevantes para cada classe. Logo, vamos usar todas as features (`'sepal length', 'sepal width', 'petal length', 'petal width'`)"
   ]
  },
  {
   "cell_type": "code",
   "execution_count": null,
   "metadata": {},
   "outputs": [],
   "source": []
  }
 ],
 "metadata": {
  "kernelspec": {
   "display_name": "Python 3",
   "language": "python",
   "name": "python3"
  },
  "language_info": {
   "codemirror_mode": {
    "name": "ipython",
    "version": 3
   },
   "file_extension": ".py",
   "mimetype": "text/x-python",
   "name": "python",
   "nbconvert_exporter": "python",
   "pygments_lexer": "ipython3",
   "version": "3.6.4"
  }
 },
 "nbformat": 4,
 "nbformat_minor": 2
}
